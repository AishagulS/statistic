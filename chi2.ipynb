{
 "cells": [
  {
   "cell_type": "code",
   "execution_count": 4,
   "id": "6091fdfd-3414-4c0f-a07e-31a85a1fbbfa",
   "metadata": {},
   "outputs": [
    {
     "name": "stdout",
     "output_type": "stream",
     "text": [
      "\n",
      "Хи квадрат 0.9544070774762996\n",
      "p - value 0.6205162173513055\n",
      "Степеней свобод 2\n",
      "Ожидаемые наблюдения\n",
      "[[17.97297297 17.02702703]\n",
      " [11.81081081 11.18918919]\n",
      " [ 8.21621622  7.78378378]]\n",
      "\n"
     ]
    }
   ],
   "source": [
    "from scipy import stats\n",
    "chi2, p_value, dof, ev = stats.chi2_contingency(([20,15],[11,12],[7,9]))\n",
    "print(f'''\n",
    "Хи квадрат {chi2}\n",
    "p - value {p_value}\n",
    "Степеней свобод {dof}\n",
    "Ожидаемые наблюдения\n",
    "{ev}\n",
    "''')"
   ]
  },
  {
   "cell_type": "code",
   "execution_count": null,
   "id": "be91716f-83b5-4fd4-a46c-c8a458bca715",
   "metadata": {},
   "outputs": [],
   "source": []
  }
 ],
 "metadata": {
  "kernelspec": {
   "display_name": "Python 3 (ipykernel)",
   "language": "python",
   "name": "python3"
  },
  "language_info": {
   "codemirror_mode": {
    "name": "ipython",
    "version": 3
   },
   "file_extension": ".py",
   "mimetype": "text/x-python",
   "name": "python",
   "nbconvert_exporter": "python",
   "pygments_lexer": "ipython3",
   "version": "3.12.0"
  }
 },
 "nbformat": 4,
 "nbformat_minor": 5
}
