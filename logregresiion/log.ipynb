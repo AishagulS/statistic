{
 "cells": [
  {
   "cell_type": "code",
   "execution_count": 6,
   "id": "8a53a860-5a95-4c94-b2fe-a34bedf90cc9",
   "metadata": {},
   "outputs": [
    {
     "name": "stdout",
     "output_type": "stream",
     "text": [
      "                 Generalized Linear Model Regression Results                  \n",
      "==============================================================================\n",
      "Dep. Variable:                      y   No. Observations:                  891\n",
      "Model:                            GLM   Df Residuals:                      889\n",
      "Model Family:                Binomial   Df Model:                            1\n",
      "Link Function:                  Logit   Scale:                          1.0000\n",
      "Method:                          IRLS   Log-Likelihood:                -458.90\n",
      "Date:                Mon, 06 Nov 2023   Deviance:                       917.80\n",
      "Time:                        16:16:59   Pearson chi2:                     891.\n",
      "No. Iterations:                     4   Pseudo R-squ. (CS):             0.2605\n",
      "Covariance Type:            nonrobust                                         \n",
      "==============================================================================\n",
      "                 coef    std err          z      P>|z|      [0.025      0.975]\n",
      "------------------------------------------------------------------------------\n",
      "const          1.0566      0.129      8.191      0.000       0.804       1.309\n",
      "0             -2.5137      0.167    -15.036      0.000      -2.841      -2.186\n",
      "==============================================================================\n"
     ]
    }
   ],
   "source": [
    "import pandas as pd\n",
    "import statsmodels.api as sm\n",
    "import statsmodels.formula.api as smf\n",
    "\n",
    "\n",
    "\n",
    "category_columns = { col: 'category' for col in ['Survived', 'Sex'] }  # приведение выбранных колонок к категориальному\n",
    "\n",
    "data = pd.read_csv('https://stepik.org/media/attachments/course/524/train.csv', dtype=category_columns)\n",
    "\n",
    "# Зависимая переменная обычно обозначается как \"Y\" или \"y\"\n",
    "Y = data.loc[:,'Survived'].cat.codes\n",
    "\n",
    "# То о чем говорил преподаватель: колонку пол c сдвумя градациями нужно трансформировать в 2 колонки для каждого пола\n",
    "X = sm.add_constant( data.loc[:,'Sex'].cat.codes )\n",
    "\n",
    "#\n",
    "# ВЫЧИСЛЯЕМ  \n",
    "#\n",
    "# Классическое представление результат-предиктор(ы), которое используется в классификаторах\n",
    "glm_binom = sm.GLM(Y, X, family=sm.families.Binomial())\n",
    "res = glm_binom.fit()\n",
    "\n",
    "\n",
    "print( res.summary() )"
   ]
  },
  {
   "cell_type": "code",
   "execution_count": null,
   "id": "c606d0be-7e58-425c-a8da-0ed6b8081b89",
   "metadata": {},
   "outputs": [],
   "source": []
  }
 ],
 "metadata": {
  "kernelspec": {
   "display_name": "Python 3 (ipykernel)",
   "language": "python",
   "name": "python3"
  },
  "language_info": {
   "codemirror_mode": {
    "name": "ipython",
    "version": 3
   },
   "file_extension": ".py",
   "mimetype": "text/x-python",
   "name": "python",
   "nbconvert_exporter": "python",
   "pygments_lexer": "ipython3",
   "version": "3.12.0"
  }
 },
 "nbformat": 4,
 "nbformat_minor": 5
}
